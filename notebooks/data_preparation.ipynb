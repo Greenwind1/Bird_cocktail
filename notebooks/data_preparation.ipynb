{
 "cells": [
  {
   "cell_type": "markdown",
   "metadata": {},
   "source": [
    "# Data Preparation from Macaulay Library of Cornell Lab and Xeno-Canto\n",
    "> *If you cannot see the HTML rendering (e.g. colors), view this notebook [here](https://nbviewer.jupyter.org/github/Mipanox/Bird_cocktail/blob/master/notebooks/data_preparation.ipynb)*\n",
    "\n",
    "_(Dated: 02/21/18)_\n",
    "\n",
    "In the current implementation, we are interested in classifying ~300 species of birds in California, U.S.A. \n",
    "To download only the birds living in the region, we first acquire species information \n",
    "(name, number of recordings, catalog number, etc.) from the website search. In this notebook, we show from scratch how we download the audio recordings and convert them to `.wav` files, ready for pre-processing.\n",
    "\n",
    "The task requires the [BeautifulSoup](https://www.crummy.com/software/BeautifulSoup/) web crawler package."
   ]
  },
  {
   "cell_type": "code",
   "execution_count": 2,
   "metadata": {
    "collapsed": true,
    "scrolled": true
   },
   "outputs": [],
   "source": [
    "import sys\n",
    "sys.path.append('../codes/')\n",
    "from data_util import *"
   ]
  },
  {
   "cell_type": "markdown",
   "metadata": {},
   "source": [
    "## 1. Search the region\n",
    "The following urls are the search results of the region (California):\n",
    "- XC: [search](https://www.xeno-canto.org/explore?query=box%3A32.25%2C-125.771%2C42.294%2C-113.423+)\n",
    "- ML: [search](http://macaulaylibrary.org/search?&asset_format_id=1000&collection_type_id=1&layout=1&quality1_id_min=3&quality1_id_max=5&taxon=Birds&taxon_id=11994031&taxon_rank_id=21&country_name=United%20States&country_id=211&state_name=California%20--%20US&state_id=3619&sort=1)\n",
    "_(Note: For ML, only the database with catalog numbers less than 1,000,000 as per [term](https://www.macaulaylibrary.org/about/request-media/))_"
   ]
  },
  {
   "cell_type": "markdown",
   "metadata": {},
   "source": [
    "### (1) XC\n",
    "#### Get the species names\n",
    "In order to maximize the number of independent data (i.e. recordings), the top ~300 species \n",
    "(sorted by frequnecy of occurrence in the search results) are chosen:\n",
    "\n",
    "_(The following cell may take a long time to run)_"
   ]
  },
  {
   "cell_type": "code",
   "execution_count": null,
   "metadata": {
    "collapsed": true
   },
   "outputs": [],
   "source": [
    "xcpreurl = 'https://www.xeno-canto.org/explore?query=box%3A32.25%2C-125.771%2C42.294%2C-113.423+'\n",
    "XC_CA = XC_dn(preurl=xcpreurl,pglim=210,num_spe=400) # said 372 species by XC search"
   ]
  },
  {
   "cell_type": "markdown",
   "metadata": {},
   "source": [
    "__Note__: The `pglim` parameter limits the search to the specified page. In normal circumstances, the last few pages are to be excluded, which contain 'identity unknown' and 'soundscape' results\n",
    "\n",
    "#### Store sorted species names\n",
    "After running the cell above, the `specnmlist` attribute of the `XC_CA` object will be all the species names ever occur in the searches. We sort them and store the sorted result into an `.npy` object, which alleviates the burden of running through the searches again should anything bad happen such as download fails."
   ]
  },
  {
   "cell_type": "code",
   "execution_count": null,
   "metadata": {
    "collapsed": true
   },
   "outputs": [],
   "source": [
    "_ = XC_CA._spenm_one()\n",
    "np.save('XC_CA_spenmlist_one.npy',XC_CA.spenmlist_one)"
   ]
  },
  {
   "cell_type": "markdown",
   "metadata": {},
   "source": [
    "### (2) ML\n",
    "The ML website turns out to be less convenient for directly downloading the recordings. Instead, we will obtain the catalog numbers for each species through `.csv` files which are downloadable.\n",
    "\n",
    "#### Get the species names"
   ]
  },
  {
   "cell_type": "code",
   "execution_count": null,
   "metadata": {
    "collapsed": true
   },
   "outputs": [],
   "source": [
    "mlcapreurl = 'http://macaulaylibrary.org/search?&asset_format_id=1000&collection_type_id=1&layout=1&quality1_id_min=3&quality1_id_max=5&taxon=Birds&taxon_id=11994031&taxon_rank_id=21&country_name=United%20States&country_id=211&state_name=California%20--%20US&state_id=3619&sort=1'\n",
    "ML_ca_star3 = ML_dn(preurl=mlcapreurl,pglim=36,num_spe=350)"
   ]
  },
  {
   "cell_type": "markdown",
   "metadata": {},
   "source": [
    "#### Store sorted species names\n",
    "Calling the following function will sort the species names just like the XC case\n",
    "\n",
    "__Note:__ A little warning at this point. The ML library restricts the number of entries in every `csv` file for non-members. For example, one may login to the ML website on Firefox and specify path of Firefox's profile to the `profile_path` argument in the `get_specsv` function (see the commented code below)"
   ]
  },
  {
   "cell_type": "code",
   "execution_count": null,
   "metadata": {
    "collapsed": true
   },
   "outputs": [],
   "source": [
    "ML_ca_star3.get_specsv()\n",
    "## ML_ca_star3.get_specsv(profile_path='/Users/jasonhc/Library/Application Support/Firefox/Profiles/q20kmjze.default')"
   ]
  },
  {
   "cell_type": "markdown",
   "metadata": {
    "collapsed": true
   },
   "source": [
    "Again, save the species names (might as well use the same species as in XC)"
   ]
  },
  {
   "cell_type": "code",
   "execution_count": null,
   "metadata": {
    "collapsed": true
   },
   "outputs": [],
   "source": [
    "np.save('ML_ca_spenmlist_one.npy',ML_ca_star3.spenmlist_one)"
   ]
  },
  {
   "cell_type": "markdown",
   "metadata": {},
   "source": [
    "## 2. Download mp3\n",
    "If one provides their own species name list, stored in the `.npy` file, they can download the species as follows, omitting the steps outlined above: \n",
    "\n",
    "*Note that the species names must follow the convention used (for dealing with whitespaces, quotation marks, etc.) in each database. See the `.npy` [files](https://github.com/Mipanox/Bird_cocktail/tree/master/datasets/species_name_lists) as examples*"
   ]
  },
  {
   "cell_type": "code",
   "execution_count": null,
   "metadata": {
    "collapsed": true
   },
   "outputs": [],
   "source": [
    "## optional, if reading a pre-stored npy\n",
    "### ML\n",
    "ML_ca_star3 = ML_dn(preurl='https://',read_in=False)\n",
    "ML_ca_star3.spenmlist_one = np.load('../datasets/species_name_lists/ML_ca_spenmlist_one.npy')\n",
    "ML_ca_star3.get_specsv()\n",
    "\n",
    "### XC\n",
    "XC_CA.spenmlist_one = np.load('../datasets/species_name_lists/XC_CA_spenmlist_one.npy')"
   ]
  },
  {
   "cell_type": "markdown",
   "metadata": {},
   "source": [
    "Then downoald"
   ]
  },
  {
   "cell_type": "code",
   "execution_count": null,
   "metadata": {
    "collapsed": true
   },
   "outputs": [],
   "source": [
    "### ML\n",
    "ML_ca_star3.dn_mp3(path_csv='../datasets/csv_ca/',path_mp3='../datasets/mp3_ca')\n",
    "\n",
    "### XC\n",
    "XC_CA.dn_mp3(pglim=10,path_mp3='../datasets/mp3_ca')"
   ]
  },
  {
   "cell_type": "markdown",
   "metadata": {
    "collapsed": true
   },
   "source": [
    "## 3. Convert to .wav (optional)\n",
    "Unfortunately, some python packages for audio processing require `.wav` files instead of `.mp3`. Below, we outline converting bulk of the downloaded `.mp3` files through command line scripts.\n",
    "\n",
    "As a prerequisite, make sure we have `ffmpeg` installed on the machine:"
   ]
  },
  {
   "cell_type": "code",
   "execution_count": null,
   "metadata": {
    "collapsed": true
   },
   "outputs": [],
   "source": [
    "! which ffmpeg"
   ]
  },
  {
   "cell_type": "markdown",
   "metadata": {},
   "source": [
    "An example shell [script](https://github.com/Mipanox/Bird_cocktail/blob/master/codes/to_wav.sh) to convert downloaded ML `.mp3` files to `.wav`, in a separate folder, also structured by species."
   ]
  },
  {
   "cell_type": "markdown",
   "metadata": {},
   "source": [
    "```bash\n",
    "\n",
    "ppath='/scratch/users/jasonhc/bird_cocktail/datasets/ML/'\n",
    "\n",
    "## clean up log\n",
    "rm ffmpeg.log\n",
    "\n",
    "mkdir ${ppath}wav/\n",
    "\n",
    "for d in \"${ppath}\"mp3/*; do\n",
    "  ## navigate all species folders\n",
    "  if [ -d \"$d\" ]; then\n",
    "    ## mkdir in wav folder\n",
    "    wav_path=${ppath}wav/$(echo $d | rev | cut -d'/' -f-1 | rev)\n",
    "    mkdir ${wav_path}\n",
    "\n",
    "    echo \"Now converting for species: \"$(echo $d | rev | cut -d'/' -f-1 | rev)\n",
    "\n",
    "    for i in \"$d/\"*; do\n",
    "      #echo \"$d/\"$(basename $i .mp3).wav\n",
    "      ffmpeg -i $i \"${wav_path}/\"$(basename $i .mp3).wav &>> ffmpeg.log\n",
    "    done\n",
    "  fi\n",
    "done\n",
    "```"
   ]
  }
 ],
 "metadata": {
  "kernelspec": {
   "display_name": "Python 2",
   "language": "python",
   "name": "python2"
  },
  "language_info": {
   "codemirror_mode": {
    "name": "ipython",
    "version": 2
   },
   "file_extension": ".py",
   "mimetype": "text/x-python",
   "name": "python",
   "nbconvert_exporter": "python",
   "pygments_lexer": "ipython2",
   "version": "2.7.13"
  }
 },
 "nbformat": 4,
 "nbformat_minor": 2
}
